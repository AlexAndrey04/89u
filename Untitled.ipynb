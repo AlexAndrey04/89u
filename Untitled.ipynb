{
  "metadata": {
    "language_info": {
      "codemirror_mode": {
        "name": "python",
        "version": 3
      },
      "file_extension": ".py",
      "mimetype": "text/x-python",
      "name": "python",
      "nbconvert_exporter": "python",
      "pygments_lexer": "ipython3",
      "version": "3.8"
    },
    "kernelspec": {
      "name": "python",
      "display_name": "Python (Pyodide)",
      "language": "python"
    }
  },
  "nbformat_minor": 4,
  "nbformat": 4,
  "cells": [
    {
      "cell_type": "code",
      "source": "Вводится вектор. Вывести максимум из его элементов.",
      "metadata": {},
      "execution_count": null,
      "outputs": []
    },
    {
      "cell_type": "code",
      "source": "a = list(map(int,input().split()))\nprint(max(a))",
      "metadata": {},
      "execution_count": null,
      "outputs": []
    },
    {
      "cell_type": "code",
      "source": "Вводится вектор. Заменить в нём каждое число Фибоначчи на следующее.",
      "metadata": {},
      "execution_count": null,
      "outputs": []
    },
    {
      "cell_type": "code",
      "source": "a = list(map(int,input().split()))\nb = [1,1]\nc = 1\nd = max(a)\nwhile b[c] < d:\n    b.append(b[c]+b[c-1])\n    c+=1\nfor c in range(len(a)):\n    if a[c] in b:\n        a[c] = b[b.index(a[c])+1]\nprint(a)",
      "metadata": {},
      "execution_count": null,
      "outputs": []
    },
    {
      "cell_type": "code",
      "source": "Напишите программу, которая помогает определить какие вещи могут поместиться в рюкзак. Вводится существующий объем рюкзака. Затем вводятся объемы всех вещей, которые хочется туда поместить. Нужно вывести список объемов вещей, которые поместятся в рюкзак. Постарайтесь максимизировать кол-во вошедших вещей.",
      "metadata": {},
      "execution_count": null,
      "outputs": []
    },
    {
      "cell_type": "code",
      "source": "a = int(input())\nb = list(map(int,input().split()))\nb.sort()\nc = 0\nwhile a - b[c] > 0:\n    print(b[c], end = ' ')\n    a-=b[c]\n    c+=1",
      "metadata": {},
      "execution_count": null,
      "outputs": []
    },
    {
      "cell_type": "code",
      "source": "Данные об email-адресах студентов хранятся в словаре: {домен:логины} . Нужно дополнить код таким образом, чтобы он вывел все адреса в алфавитном порядке и в формате имя_пользователя@домен",
      "metadata": {},
      "execution_count": null,
      "outputs": []
    },
    {
      "cell_type": "code",
      "source": "import json\n\na = \"\"\nb = input()\nc = 0\nwhile c < len(b):\n    if b[c].isalpha():\n        a += '\"'\n        while b[c].isalpha() or b[c] == '.':\n            a += b[c]\n            c+=1\n        a += '\"'\n    a += b[c]\n    c+=1\ns = json.loads(a)\nd = []\nfor g, f in s.items():\n    for r in f:\n        d.append(f\"{r}@{g}\")\nd.sort()\nfor e in d:\n    print(e)",
      "metadata": {},
      "execution_count": null,
      "outputs": []
    }
  ]
}